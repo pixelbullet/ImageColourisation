{
 "cells": [
  {
   "cell_type": "code",
   "execution_count": 93,
   "id": "2ac1ebbc",
   "metadata": {},
   "outputs": [],
   "source": [
    "from skimage import io, color\n",
    "import os\n",
    "from keras.preprocessing import image\n",
    "import numpy as np\n",
    "import h5py\n",
    "import skimage"
   ]
  },
  {
   "cell_type": "code",
   "execution_count": 19,
   "id": "694cce9f",
   "metadata": {},
   "outputs": [
    {
     "data": {
      "text/plain": [
       "['1000268201_693b08cb0e.jpg', '1001773457_577c3a7d70.jpg']"
      ]
     },
     "execution_count": 19,
     "metadata": {},
     "output_type": "execute_result"
    }
   ],
   "source": [
    "trainImages = os.listdir(\"inputImages\")\n",
    "trainImages[:2]"
   ]
  },
  {
   "cell_type": "code",
   "execution_count": 22,
   "id": "41d06c0a",
   "metadata": {},
   "outputs": [],
   "source": [
    "f = h5py.File(\"trainImages.h5\", \"w\")\n",
    "\n",
    "for fileName in trainImages:\n",
    "    img = image.load_img(\"inputImages/\"+fileName, target_size=(256, 256), color_mode =\"grayscale\")\n",
    "    x = np.squeeze(image.img_to_array(img))\n",
    "    f[fileName[:-4]] = x\n",
    "\n",
    "f.close()"
   ]
  },
  {
   "cell_type": "code",
   "execution_count": 28,
   "id": "6b19c97c",
   "metadata": {},
   "outputs": [
    {
     "data": {
      "text/plain": [
       "['1000268201_693b08cb0e.jpg', '1001773457_577c3a7d70.jpg']"
      ]
     },
     "execution_count": 28,
     "metadata": {},
     "output_type": "execute_result"
    }
   ],
   "source": [
    "testImages = os.listdir(\"../../../datasets/flickr8k/Images\")\n",
    "testImages[:2]"
   ]
  },
  {
   "cell_type": "code",
   "execution_count": 160,
   "id": "e3b8eac3",
   "metadata": {
    "collapsed": true
   },
   "outputs": [
    {
     "name": "stdout",
     "output_type": "stream",
     "text": [
      "100\n",
      "200\n",
      "300\n",
      "400\n",
      "500\n",
      "600\n",
      "700\n",
      "800\n",
      "900\n",
      "1000\n",
      "1100\n",
      "1200\n",
      "1300\n",
      "1400\n",
      "1500\n",
      "1600\n",
      "1700\n",
      "1800\n",
      "1900\n",
      "2000\n",
      "2100\n",
      "2200\n",
      "2300\n",
      "2400\n",
      "2500\n",
      "2600\n",
      "2700\n",
      "2800\n",
      "2900\n",
      "3000\n",
      "3100\n",
      "3200\n",
      "3300\n",
      "3400\n",
      "3500\n",
      "3600\n",
      "3700\n",
      "3800\n",
      "3900\n",
      "4000\n",
      "4100\n",
      "4200\n",
      "4300\n",
      "4400\n",
      "4500\n",
      "4600\n",
      "4700\n",
      "4800\n",
      "4900\n",
      "5000\n",
      "5100\n",
      "5200\n",
      "5300\n",
      "5400\n",
      "5500\n",
      "5600\n",
      "5700\n",
      "5800\n",
      "5900\n",
      "6000\n",
      "6100\n",
      "6200\n",
      "6300\n",
      "6400\n",
      "6500\n",
      "6600\n",
      "6700\n",
      "6800\n",
      "6900\n",
      "7000\n",
      "7100\n",
      "7200\n",
      "7300\n",
      "7400\n",
      "7500\n",
      "7600\n",
      "7700\n",
      "7800\n",
      "7900\n",
      "8000\n"
     ]
    }
   ],
   "source": [
    "f = h5py.File(\"testImages.h5\", \"a\")\n",
    "\n",
    "count = 0\n",
    "\n",
    "for fileName in testImages:\n",
    "    try:\n",
    "        f[fileName[:-4]]\n",
    "    except:\n",
    "        rgb = io.imread(\"../../../datasets/flickr8k/Images/\"+fileName)\n",
    "        rgb = skimage.transform.resize(rgb, (256,256), anti_aliasing=True)\n",
    "        lab = color.rgb2lab(rgb)\n",
    "        f[fileName[:-4]] = lab[:,:,1:]\n",
    "        \n",
    "    count += 1\n",
    "    if count%100 == 0:\n",
    "        print(count)\n",
    "\n",
    "f.close()"
   ]
  },
  {
   "cell_type": "code",
   "execution_count": 163,
   "id": "5ff4cf14",
   "metadata": {},
   "outputs": [
    {
     "name": "stdout",
     "output_type": "stream",
     "text": [
      "8091\n"
     ]
    }
   ],
   "source": [
    "f = h5py.File(\"testImages.h5\", \"r\")\n",
    "print(len(list(f.keys())))\n",
    "f.close()"
   ]
  }
 ],
 "metadata": {
  "kernelspec": {
   "display_name": "Python 3 (ipykernel)",
   "language": "python",
   "name": "python3"
  },
  "language_info": {
   "codemirror_mode": {
    "name": "ipython",
    "version": 3
   },
   "file_extension": ".py",
   "mimetype": "text/x-python",
   "name": "python",
   "nbconvert_exporter": "python",
   "pygments_lexer": "ipython3",
   "version": "3.10.4"
  }
 },
 "nbformat": 4,
 "nbformat_minor": 5
}
