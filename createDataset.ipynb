{
 "cells": [
  {
   "cell_type": "code",
   "execution_count": 1,
   "id": "9395731e",
   "metadata": {},
   "outputs": [],
   "source": [
    "from PIL import Image\n",
    "import os\n",
    "import numpy as np"
   ]
  },
  {
   "cell_type": "code",
   "execution_count": 2,
   "id": "3821b91e",
   "metadata": {},
   "outputs": [],
   "source": [
    "inputDir = \"./inputImages/\"\n",
    "targetDir = \"../../datasets/flickr8k/Images/\""
   ]
  },
  {
   "cell_type": "code",
   "execution_count": 3,
   "id": "33b13133",
   "metadata": {},
   "outputs": [
    {
     "data": {
      "text/plain": [
       "['1000268201_693b08cb0e.jpg',\n",
       " '1001773457_577c3a7d70.jpg',\n",
       " '1002674143_1b742ab4b8.jpg',\n",
       " '1003163366_44323f5815.jpg',\n",
       " '1007129816_e794419615.jpg']"
      ]
     },
     "execution_count": 3,
     "metadata": {},
     "output_type": "execute_result"
    }
   ],
   "source": [
    "images = os.listdir(targetDir)\n",
    "images[:5]"
   ]
  },
  {
   "cell_type": "code",
   "execution_count": 4,
   "id": "61be35b9",
   "metadata": {},
   "outputs": [],
   "source": [
    "def getBWImage(fileName):\n",
    "    img = Image.open(targetDir+fileName)\n",
    "    data = np.asarray(img)\n",
    "\n",
    "\n",
    "    weights = [0.299, 0.587, 0.114]\n",
    "    bwData = data[:,:,0]*weights[0] + data[:,:,1]*weights[1] + data[:,:,2]*weights[2]\n",
    "    bwData = bwData.astype('uint8')\n",
    "\n",
    "    bwImage = Image.fromarray(bwData, 'L')\n",
    "    bwImage.save(inputDir+fileName)"
   ]
  },
  {
   "cell_type": "code",
   "execution_count": 31,
   "id": "f015c33c",
   "metadata": {
    "collapsed": true
   },
   "outputs": [
    {
     "name": "stdout",
     "output_type": "stream",
     "text": [
      "0\n",
      "100\n",
      "200\n",
      "300\n",
      "400\n",
      "500\n",
      "600\n",
      "700\n",
      "800\n",
      "900\n",
      "1000\n",
      "1100\n",
      "1200\n",
      "1300\n",
      "1400\n",
      "1500\n",
      "1600\n",
      "1700\n",
      "1800\n",
      "1900\n",
      "2000\n",
      "2100\n",
      "2200\n",
      "2300\n",
      "2400\n",
      "2500\n",
      "2600\n",
      "2700\n",
      "2800\n",
      "2900\n",
      "3000\n",
      "3100\n",
      "3200\n",
      "3300\n",
      "3400\n",
      "3500\n",
      "3600\n",
      "3700\n",
      "3800\n",
      "3900\n",
      "4000\n",
      "4100\n",
      "4200\n",
      "4300\n",
      "4400\n",
      "4500\n",
      "4600\n",
      "4700\n",
      "4800\n",
      "4900\n",
      "5000\n",
      "5100\n",
      "5200\n",
      "5300\n",
      "5400\n",
      "5500\n",
      "5600\n",
      "5700\n",
      "5800\n",
      "5900\n",
      "6000\n",
      "6100\n",
      "6200\n",
      "6300\n",
      "6400\n",
      "6500\n",
      "6600\n",
      "6700\n",
      "6800\n",
      "6900\n",
      "7000\n",
      "7100\n",
      "7200\n",
      "7300\n",
      "7400\n",
      "7500\n",
      "7600\n",
      "7700\n",
      "7800\n",
      "7900\n",
      "8000\n"
     ]
    }
   ],
   "source": [
    "for i,fileName in enumerate(images):\n",
    "    getBWImage(fileName)\n",
    "    if i%100 == 0:\n",
    "        print(i)"
   ]
  }
 ],
 "metadata": {
  "kernelspec": {
   "display_name": "Python 3",
   "language": "python",
   "name": "python3"
  },
  "language_info": {
   "codemirror_mode": {
    "name": "ipython",
    "version": 3
   },
   "file_extension": ".py",
   "mimetype": "text/x-python",
   "name": "python",
   "nbconvert_exporter": "python",
   "pygments_lexer": "ipython3",
   "version": "3.9.5"
  }
 },
 "nbformat": 4,
 "nbformat_minor": 5
}
