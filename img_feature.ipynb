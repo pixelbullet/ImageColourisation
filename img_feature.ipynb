{
 "cells": [
  {
   "cell_type": "code",
   "execution_count": 1,
   "metadata": {
    "id": "6iZVq1Ggf6da"
   },
   "outputs": [],
   "source": [
    "import numpy as np\n",
    "from keras.applications.vgg16 import VGG16\n",
    "from keras.preprocessing import image\n",
    "from keras.applications.vgg16 import preprocess_input\n",
    "from IPython.display import clear_output\n",
    "\n",
    "import h5py\n",
    "import time\n",
    "import os"
   ]
  },
  {
   "cell_type": "code",
   "execution_count": 13,
   "metadata": {},
   "outputs": [
    {
     "data": {
      "text/plain": [
       "56"
      ]
     },
     "execution_count": 13,
     "metadata": {},
     "output_type": "execute_result"
    }
   ],
   "source": [
    "outputname = \"./flickr8k_grayscale_imgFeat_vgg16.h5\"\n",
    "imgDone = {}\n",
    "\n",
    "try:\n",
    "    f_out = h5py.File(outputname, \"r\")\n",
    "\n",
    "    for k in list(f_out.keys()):\n",
    "        imgDone[k+\".jpg\"] = 1\n",
    "\n",
    "    f_out.close()\n",
    "except:\n",
    "    pass\n",
    "\n",
    "len(imgDone)"
   ]
  },
  {
   "cell_type": "code",
   "execution_count": 3,
   "metadata": {
    "colab": {
     "base_uri": "https://localhost:8080/"
    },
    "id": "L2GDdUG-3rlg",
    "outputId": "8da7994b-c52b-490f-a94c-cd93365a795d"
   },
   "outputs": [],
   "source": [
    "# load pretrained model\n",
    "model = VGG16(weights=\"imagenet\", include_top=False)"
   ]
  },
  {
   "cell_type": "code",
   "execution_count": 4,
   "metadata": {
    "id": "CypyA_d854mI"
   },
   "outputs": [],
   "source": [
    "from keras.layers import Dense"
   ]
  },
  {
   "cell_type": "code",
   "execution_count": 5,
   "metadata": {},
   "outputs": [],
   "source": [
    "def getEstimatedTime(done, doneTime, pending):\n",
    "    if done != 0:\n",
    "        return (doneTime*pending)/done\n",
    "    else:\n",
    "        return 0\n",
    "\n",
    "def progressBar(perc, startTime):\n",
    "    clear_output(wait=True)\n",
    "    print(\"[\",end=\"\")\n",
    "    for j in range(30):\n",
    "        if perc > (j+2)*int(100/30):\n",
    "            print(\"=\",end=\"\")\n",
    "        elif perc > (j+1)*int(100/30):\n",
    "            print(\">\",end=\"\")\n",
    "        else:\n",
    "            print(\".\",end=\"\")\n",
    "    print(\"] \"+str(round(perc,2))+\"%\\t\",end=\"\")\n",
    "    doneTime = time.time() - startTime\n",
    "    print(\"Est Time: \"+str(round(getEstimatedTime(perc, doneTime, 100-perc),2))+\"s\")"
   ]
  },
  {
   "cell_type": "code",
   "execution_count": 6,
   "metadata": {},
   "outputs": [],
   "source": [
    "dataPath = \"./inputImages/\"\n",
    "img_list = os.listdir(dataPath)\n",
    "total = len(img_list)"
   ]
  },
  {
   "cell_type": "code",
   "execution_count": 14,
   "metadata": {},
   "outputs": [
    {
     "name": "stdout",
     "output_type": "stream",
     "text": [
      "8091\n",
      "8035\n"
     ]
    }
   ],
   "source": [
    "final_img_list = []\n",
    "\n",
    "for k in img_list:\n",
    "    try:\n",
    "        imgDone[k]\n",
    "    except:\n",
    "        final_img_list.append(k)\n",
    "\n",
    "print(len(img_list))\n",
    "print(len(final_img_list))"
   ]
  },
  {
   "cell_type": "code",
   "execution_count": 15,
   "metadata": {},
   "outputs": [],
   "source": [
    "img_list = final_img_list\n",
    "total = len(img_list)"
   ]
  },
  {
   "cell_type": "code",
   "execution_count": 17,
   "metadata": {
    "colab": {
     "base_uri": "https://localhost:8080/"
    },
    "id": "r16yGNDngw3T",
    "outputId": "1227b34c-3a40-4b1a-fcd7-5fd1c9ab84b0"
   },
   "outputs": [
    {
     "name": "stdout",
     "output_type": "stream",
     "text": [
      "[==============================] 100.0%\tEst Time: 0.0s\n"
     ]
    }
   ],
   "source": [
    "f_out = h5py.File(outputname, \"a\")\n",
    "\n",
    "t = []\n",
    "img_done = {}\n",
    "\n",
    "count = 0\n",
    "start = time.time()\n",
    "for item in img_list[:]:\n",
    "    if item[-4:] != \".tmp\":\n",
    "        name = dataPath + item\n",
    "        img = image.load_img(name, target_size=(224, 224))\n",
    "        x = image.img_to_array(img)\n",
    "        x = np.expand_dims(x, axis=0)\n",
    "        x = preprocess_input(x)\n",
    "        feat = model.predict(x)\n",
    "        t.append(feat.shape)\n",
    "        f_out[item[:-4]] = feat\n",
    "        img_done[item] = True\n",
    "    count += 1\n",
    "    progressBar((count*100)/total,start)\n",
    "    if count % 100 == 0:\n",
    "        print(count)\n",
    "\n",
    "f_out.close()"
   ]
  },
  {
   "cell_type": "code",
   "execution_count": 10,
   "metadata": {},
   "outputs": [],
   "source": [
    "f_out.close()"
   ]
  },
  {
   "cell_type": "code",
   "execution_count": 18,
   "metadata": {
    "colab": {
     "base_uri": "https://localhost:8080/"
    },
    "id": "n00TBTQ7vUlG",
    "outputId": "76978937-1471-45ef-a230-e398ebe7772e"
   },
   "outputs": [
    {
     "data": {
      "text/plain": [
       "[(1, 7, 7, 512)]"
      ]
     },
     "execution_count": 18,
     "metadata": {},
     "output_type": "execute_result"
    }
   ],
   "source": [
    "t = list(set(t))\n",
    "t"
   ]
  },
  {
   "cell_type": "code",
   "execution_count": 19,
   "metadata": {
    "colab": {
     "base_uri": "https://localhost:8080/",
     "height": 36
    },
    "id": "UAkA2kmQ468R",
    "outputId": "7828db85-3c06-4c39-fe5d-28b844892784"
   },
   "outputs": [
    {
     "data": {
      "text/plain": [
       "'8035 images found'"
      ]
     },
     "execution_count": 19,
     "metadata": {},
     "output_type": "execute_result"
    }
   ],
   "source": [
    "str(count) + \" images found\""
   ]
  }
 ],
 "metadata": {
  "accelerator": "GPU",
  "colab": {
   "collapsed_sections": [],
   "name": "img_feature.ipynb",
   "provenance": []
  },
  "kernelspec": {
   "display_name": "Python 3 (ipykernel)",
   "language": "python",
   "name": "python3"
  },
  "language_info": {
   "codemirror_mode": {
    "name": "ipython",
    "version": 3
   },
   "file_extension": ".py",
   "mimetype": "text/x-python",
   "name": "python",
   "nbconvert_exporter": "python",
   "pygments_lexer": "ipython3",
   "version": "3.10.4"
  }
 },
 "nbformat": 4,
 "nbformat_minor": 1
}
